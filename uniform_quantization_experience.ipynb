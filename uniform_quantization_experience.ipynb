{
 "cells": [
  {
   "cell_type": "markdown",
   "metadata": {
    "slideshow": {
     "slide_type": "slide"
    }
   },
   "source": [
    "# Uniform quantization in frequency domain"
   ]
  },
  {
   "cell_type": "code",
   "execution_count": 1,
   "metadata": {
    "collapsed": false,
    "slideshow": {
     "slide_type": "slide"
    }
   },
   "outputs": [],
   "source": [
    "import numpy as np\n",
    "import matplotlib.pyplot as plt\n",
    "from scipy import fftpack\n",
    "from skimage.util import img_as_ubyte\n",
    "import matplotlib.image as mpimg"
   ]
  },
  {
   "cell_type": "code",
   "execution_count": 2,
   "metadata": {
    "collapsed": false
   },
   "outputs": [],
   "source": [
    "# loading image\n",
    "img = img_as_ubyte(mpimg.imread('super_mario_head.png'))\n",
    "choosen_y_x = 90\n",
    "resolution = 128\n",
    "\n",
    "img_slice = img[choosen_y_x:(choosen_y_x + resolution), choosen_y_x:(choosen_y_x + resolution), 2]"
   ]
  },
  {
   "cell_type": "markdown",
   "metadata": {},
   "source": [
    "# Distribution: Frequency vs Spatial"
   ]
  },
  {
   "cell_type": "code",
   "execution_count": 3,
   "metadata": {
    "collapsed": false
   },
   "outputs": [
    {
     "data": {
      "text/plain": [
       "<BarContainer object of 99 artists>"
      ]
     },
     "execution_count": 3,
     "metadata": {},
     "output_type": "execute_result"
    },
    {
     "data": {
      "image/png": "[encoded data removed]",
      "text/plain": [
       "<Figure size 1080x360 with 2 Axes>"
      ]
     },
     "metadata": {
      "needs_background": "light"
     },
     "output_type": "display_data"
    }
   ],
   "source": [
    "# transform: 2D DCT\n",
    "dct_slice = fftpack.dct(fftpack.dct(img_slice.T, norm='ortho').T, norm='ortho')\n",
    "\n",
    "dct_hist, dct_bin_edges = np.histogram(dct_slice, bins = range(100))\n",
    "img_hist, img_bin_edges = np.histogram(img_slice, bins = range(100))\n",
    "\n",
    "f, (plt1, plt2) = plt.subplots(1, 2, figsize=(15, 5))\n",
    "\n",
    "plt1.set_title('Frequency histogram')\n",
    "plt1.bar(dct_bin_edges[:-1], dct_hist, width = 1)\n",
    "\n",
    "plt2.set_title('Spatial histogram')\n",
    "plt2.bar(img_bin_edges[:-1], img_hist, width = 1)"
   ]
  },
  {
   "cell_type": "markdown",
   "metadata": {},
   "source": [
    "# Quantize by dividing and requantize by multyplying"
   ]
  },
  {
   "cell_type": "code",
   "execution_count": 4,
   "metadata": {
    "collapsed": false
   },
   "outputs": [
    {
     "data": {
      "text/plain": [
       "<matplotlib.image.AxesImage at 0x7fc27154e190>"
      ]
     },
     "execution_count": 4,
     "metadata": {},
     "output_type": "execute_result"
    },
    {
     "data": {
      "image/png": "[encoded data removed]",
      "text/plain": [
       "<Figure size 1080x360 with 2 Axes>"
      ]
     },
     "metadata": {
      "needs_background": "light"
     },
     "output_type": "display_data"
    }
   ],
   "source": [
    "block = img_slice[80:88, 40:48]\n",
    "\n",
    "quantize_step = 5\n",
    "\n",
    "dct_slice = fftpack.dct(fftpack.dct(block.T, norm='ortho').T, norm='ortho')\n",
    "\n",
    "dct_slice_quantized = np.divide(dct_slice,[quantize_step])\n",
    "rounded_quantized = np.around(dct_slice_quantized)\n",
    "\n",
    "dct_slice_requantized = np.multiply(rounded_quantized,[quantize_step])\n",
    "\n",
    "idct_slice = fftpack.idct(fftpack.idct(dct_slice_requantized.T, norm='ortho').T, norm='ortho')\n",
    "\n",
    "\n",
    "f, (plt1, plt2) = plt.subplots(1, 2, figsize=(15, 5))\n",
    "\n",
    "plt1.axis('off');\n",
    "plt1.set_title('Original')\n",
    "plt1.imshow(block, cmap='gray',interpolation='nearest')\n",
    "\n",
    "plt2.axis('off');\n",
    "plt2.set_title('Quantized')\n",
    "plt2.imshow(idct_slice, cmap='gray',interpolation='nearest')"
   ]
  },
  {
   "cell_type": "markdown",
   "metadata": {},
   "source": [
    "# DCT Coefficients"
   ]
  },
  {
   "cell_type": "code",
   "execution_count": 5,
   "metadata": {
    "collapsed": false
   },
   "outputs": [
    {
     "data": {
      "text/plain": [
       "<matplotlib.colorbar.Colorbar at 0x7fc230342640>"
      ]
     },
     "execution_count": 5,
     "metadata": {},
     "output_type": "execute_result"
    },
    {
     "data": {
      "image/png": "[encoded data removed]",
      "text/plain": [
       "<Figure size 432x288 with 2 Axes>"
      ]
     },
     "metadata": {
      "needs_background": "light"
     },
     "output_type": "display_data"
    }
   ],
   "source": [
    "plt.imshow(dct_slice, interpolation='nearest', cmap=plt.cm.Paired)\n",
    "plt.colorbar(shrink=1)"
   ]
  },
  {
   "cell_type": "markdown",
   "metadata": {
    "collapsed": false
   },
   "source": [
    "# Discarding based on coefficient importance"
   ]
  },
  {
   "cell_type": "code",
   "execution_count": 6,
   "metadata": {
    "collapsed": false
   },
   "outputs": [
    {
     "name": "stdout",
     "output_type": "stream",
     "text": [
      "It compressed  67.1875 % of the block.\n"
     ]
    }
   ],
   "source": [
    "# a 8x8 block\n",
    "block = img_slice[80:88, 40:48]\n",
    "\n",
    "# a 2D DCT\n",
    "dct_slice = fftpack.dct(fftpack.dct(block.T, norm='ortho').T, norm='ortho')\n",
    "\n",
    "original_dct_slice = np.copy(dct_slice)\n",
    "\n",
    "# keeps only the top left 5 element triangle\n",
    "for u in range(8):\n",
    "    for v in range(8):\n",
    "        if (u + v) > 5:\n",
    "            dct_slice[u, v] = 0\n",
    "\n",
    "print(\"It compressed \", 100 - ((np.count_nonzero(dct_slice)/64) * 100), \"% of the block.\")"
   ]
  },
  {
   "cell_type": "markdown",
   "metadata": {},
   "source": [
    "## Pixel Original"
   ]
  },
  {
   "cell_type": "code",
   "execution_count": 7,
   "metadata": {
    "collapsed": false
   },
   "outputs": [
    {
     "data": {
      "text/plain": [
       "array([[253, 253, 253, 161, 151, 162, 173, 182],\n",
       "       [253, 253, 253, 156, 173, 188, 195, 195],\n",
       "       [255, 238, 247, 188, 195, 195, 188, 188],\n",
       "       [211, 202, 195, 188, 188, 188, 188, 188],\n",
       "       [188, 188, 188, 188, 195, 188, 188, 188],\n",
       "       [188, 188, 195, 188, 188, 188, 195, 188],\n",
       "       [195, 195, 188, 195, 195, 195, 195, 188],\n",
       "       [188, 195, 195, 195, 195, 195, 195, 195]], dtype=uint8)"
      ]
     },
     "execution_count": 7,
     "metadata": {},
     "output_type": "execute_result"
    }
   ],
   "source": [
    "np.set_printoptions(precision=1, linewidth=140, suppress=True)\n",
    "block"
   ]
  },
  {
   "cell_type": "markdown",
   "metadata": {},
   "source": [
    "## DCT Original"
   ]
  },
  {
   "cell_type": "code",
   "execution_count": 8,
   "metadata": {
    "collapsed": false
   },
   "outputs": [
    {
     "data": {
      "text/plain": [
       "array([[1578. ,   87. ,   50.7,   -9.7,  -32.5,   -8. ,   18. ,   23.6],\n",
       "       [  42.3,   96.9,   63. ,  -16.5,  -34.5,  -10.1,   25.2,   23.6],\n",
       "       [  13.4,   34.3,   27.4,  -16.1,  -21.8,   -5. ,    7.2,    5.7],\n",
       "       [ -33.1,   -4.9,    3.9,   -9.9,   -3.6,    2.5,   -4.1,   -0.7],\n",
       "       [ -28. ,   -9.8,   -5.2,   -5.7,    9.5,    0.1,   -6. ,   -8.3],\n",
       "       [  -5.9,    8.9,   -2.6,    2.4,    9.2,    6.3,   -3.4,   -7.9],\n",
       "       [   5.5,   12. ,   -4.8,   -7.2,    1.7,    4.5,    5.1,    2.3],\n",
       "       [   8.9,    9.5,   -7.3,    1.5,    4.8,   -1.3,    1.8,    0.7]])"
      ]
     },
     "execution_count": 8,
     "metadata": {},
     "output_type": "execute_result"
    }
   ],
   "source": [
    "original_dct_slice"
   ]
  },
  {
   "cell_type": "markdown",
   "metadata": {},
   "source": [
    "## Quantized"
   ]
  },
  {
   "cell_type": "code",
   "execution_count": 9,
   "metadata": {
    "collapsed": false
   },
   "outputs": [
    {
     "data": {
      "text/plain": [
       "array([[1578. ,   87. ,   50.7,   -9.7,  -32.5,   -8. ,    0. ,    0. ],\n",
       "       [  42.3,   96.9,   63. ,  -16.5,  -34.5,    0. ,    0. ,    0. ],\n",
       "       [  13.4,   34.3,   27.4,  -16.1,    0. ,    0. ,    0. ,    0. ],\n",
       "       [ -33.1,   -4.9,    3.9,    0. ,    0. ,    0. ,    0. ,    0. ],\n",
       "       [ -28. ,   -9.8,    0. ,    0. ,    0. ,    0. ,    0. ,    0. ],\n",
       "       [  -5.9,    0. ,    0. ,    0. ,    0. ,    0. ,    0. ,    0. ],\n",
       "       [   0. ,    0. ,    0. ,    0. ,    0. ,    0. ,    0. ,    0. ],\n",
       "       [   0. ,    0. ,    0. ,    0. ,    0. ,    0. ,    0. ,    0. ]])"
      ]
     },
     "execution_count": 9,
     "metadata": {},
     "output_type": "execute_result"
    }
   ],
   "source": [
    "dct_slice"
   ]
  },
  {
   "cell_type": "code",
   "execution_count": 10,
   "metadata": {
    "collapsed": false
   },
   "outputs": [
    {
     "data": {
      "text/plain": [
       "<matplotlib.image.AxesImage at 0x7fc251415f10>"
      ]
     },
     "execution_count": 10,
     "metadata": {},
     "output_type": "execute_result"
    },
    {
     "data": {
      "image/png": "[encoded data removed]",
      "text/plain": [
       "<Figure size 1080x360 with 2 Axes>"
      ]
     },
     "metadata": {
      "needs_background": "light"
     },
     "output_type": "display_data"
    }
   ],
   "source": [
    "idct_slice = fftpack.idct(fftpack.idct(dct_slice.T, norm='ortho').T, norm='ortho')\n",
    "\n",
    "\n",
    "f, (plt1, plt2) = plt.subplots(1, 2, figsize=(15, 5))\n",
    "\n",
    "plt1.axis('off');\n",
    "plt1.set_title('Original')\n",
    "plt1.imshow(block, cmap='gray', interpolation='nearest')\n",
    "\n",
    "plt2.axis('off');\n",
    "plt2.set_title('Quantized')\n",
    "plt2.imshow(idct_slice, cmap='gray', interpolation='nearest')"
   ]
  }
 ],
 "metadata": {
  "kernelspec": {
   "display_name": "base",
   "language": "python",
   "name": "python3"
  },
  "language_info": {
   "codemirror_mode": {
    "name": "ipython",
    "version": 3
   },
   "file_extension": ".py",
   "mimetype": "text/x-python",
   "name": "python",
   "nbconvert_exporter": "python",
   "pygments_lexer": "ipython3",
   "version": "3.9.1"
  }
 },
 "nbformat": 4,
 "nbformat_minor": 2
}
